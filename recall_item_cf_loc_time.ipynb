{
  "cells": [
    {
      "cell_type": "code",
      "execution_count": null,
      "id": "539ab47e",
      "metadata": {
        "id": "539ab47e"
      },
      "outputs": [],
      "source": [
        "import os\n",
        "import pandas as pd\n",
        "\n",
        "from datetime import datetime\n",
        "from tqdm import tqdm\n",
        "\n",
        "from collections import defaultdict\n",
        "import math\n",
        "import numpy as np\n",
        "import pickle"
      ]
    },
    {
      "cell_type": "code",
      "source": [
        "from google.colab import drive \n",
        "drive.mount('/content/drive', force_remount=True) "
      ],
      "metadata": {
        "colab": {
          "base_uri": "https://localhost:8080/"
        },
        "id": "lcy0GWhrYvkE",
        "outputId": "108018a4-7ce5-4a79-b2d4-88e1390e3102"
      },
      "id": "lcy0GWhrYvkE",
      "execution_count": null,
      "outputs": [
        {
          "output_type": "stream",
          "name": "stdout",
          "text": [
            "Mounted at /content/drive\n"
          ]
        }
      ]
    },
    {
      "cell_type": "code",
      "source": [
        "data_dir = '/content/drive/My Drive/recommendation/data'\n",
        "path = '/content/drive/My Drive/recommendation/'"
      ],
      "metadata": {
        "id": "YWk0m7zOY-MM"
      },
      "id": "YWk0m7zOY-MM",
      "execution_count": null,
      "outputs": []
    },
    {
      "cell_type": "code",
      "source": [
        "train_sessions = pd.read_csv(os.path.join(data_dir, 'train_sessions.csv'))\n",
        "train_purchases = pd.read_csv(os.path.join(data_dir, 'train_purchases.csv'))\n",
        "test_sessions = pd.read_csv(os.path.join(data_dir, 'test_leaderboard_sessions.csv'))\n",
        "test_leaderboard = pd.read_csv(os.path.join(data_dir,'test_final_sessions.csv'))"
      ],
      "metadata": {
        "id": "FYuiYHdlEN-V"
      },
      "id": "FYuiYHdlEN-V",
      "execution_count": null,
      "outputs": []
    },
    {
      "cell_type": "code",
      "source": [
        "train_sessions = train_sessions.append(train_purchases).reset_index(drop=True)\n",
        "train_sessions = train_sessions.append(test_sessions).reset_index(drop=True)\n",
        "train_sessions = train_sessions.append(test_leaderboard).reset_index(drop=True)"
      ],
      "metadata": {
        "id": "c0V7UXqGETv_"
      },
      "id": "c0V7UXqGETv_",
      "execution_count": null,
      "outputs": []
    },
    {
      "cell_type": "code",
      "source": [
        "train_sessions"
      ],
      "metadata": {
        "colab": {
          "base_uri": "https://localhost:8080/",
          "height": 424
        },
        "id": "Xil4XZgbEaJS",
        "outputId": "800c89bc-e920-44c3-90dd-5b4675e4acf4"
      },
      "id": "Xil4XZgbEaJS",
      "execution_count": null,
      "outputs": [
        {
          "output_type": "execute_result",
          "data": {
            "text/plain": [
              "         session_id  item_id                     date\n",
              "0                 3     9655  2020-12-18 21:25:00.373\n",
              "1                 3     9655  2020-12-18 21:19:48.093\n",
              "2                13    15654  2020-03-13 19:35:27.136\n",
              "3                18    18316  2020-08-26 19:18:30.833\n",
              "4                18     2507  2020-08-26 19:16:31.211\n",
              "...             ...      ...                      ...\n",
              "6199307     4439648     7154  2021-06-14 08:03:19.024\n",
              "6199308     4439675    23067  2021-06-01 12:21:07.959\n",
              "6199309     4439868    26085  2021-06-16 22:18:27.509\n",
              "6199310     4439966    19483  2021-06-06 20:05:06.457\n",
              "6199311     4439966    20782  2021-06-06 20:06:47.779\n",
              "\n",
              "[6199312 rows x 3 columns]"
            ],
            "text/html": [
              "\n",
              "  <div id=\"df-a04f01d5-7239-41b7-bf98-0df1fca2fff1\">\n",
              "    <div class=\"colab-df-container\">\n",
              "      <div>\n",
              "<style scoped>\n",
              "    .dataframe tbody tr th:only-of-type {\n",
              "        vertical-align: middle;\n",
              "    }\n",
              "\n",
              "    .dataframe tbody tr th {\n",
              "        vertical-align: top;\n",
              "    }\n",
              "\n",
              "    .dataframe thead th {\n",
              "        text-align: right;\n",
              "    }\n",
              "</style>\n",
              "<table border=\"1\" class=\"dataframe\">\n",
              "  <thead>\n",
              "    <tr style=\"text-align: right;\">\n",
              "      <th></th>\n",
              "      <th>session_id</th>\n",
              "      <th>item_id</th>\n",
              "      <th>date</th>\n",
              "    </tr>\n",
              "  </thead>\n",
              "  <tbody>\n",
              "    <tr>\n",
              "      <th>0</th>\n",
              "      <td>3</td>\n",
              "      <td>9655</td>\n",
              "      <td>2020-12-18 21:25:00.373</td>\n",
              "    </tr>\n",
              "    <tr>\n",
              "      <th>1</th>\n",
              "      <td>3</td>\n",
              "      <td>9655</td>\n",
              "      <td>2020-12-18 21:19:48.093</td>\n",
              "    </tr>\n",
              "    <tr>\n",
              "      <th>2</th>\n",
              "      <td>13</td>\n",
              "      <td>15654</td>\n",
              "      <td>2020-03-13 19:35:27.136</td>\n",
              "    </tr>\n",
              "    <tr>\n",
              "      <th>3</th>\n",
              "      <td>18</td>\n",
              "      <td>18316</td>\n",
              "      <td>2020-08-26 19:18:30.833</td>\n",
              "    </tr>\n",
              "    <tr>\n",
              "      <th>4</th>\n",
              "      <td>18</td>\n",
              "      <td>2507</td>\n",
              "      <td>2020-08-26 19:16:31.211</td>\n",
              "    </tr>\n",
              "    <tr>\n",
              "      <th>...</th>\n",
              "      <td>...</td>\n",
              "      <td>...</td>\n",
              "      <td>...</td>\n",
              "    </tr>\n",
              "    <tr>\n",
              "      <th>6199307</th>\n",
              "      <td>4439648</td>\n",
              "      <td>7154</td>\n",
              "      <td>2021-06-14 08:03:19.024</td>\n",
              "    </tr>\n",
              "    <tr>\n",
              "      <th>6199308</th>\n",
              "      <td>4439675</td>\n",
              "      <td>23067</td>\n",
              "      <td>2021-06-01 12:21:07.959</td>\n",
              "    </tr>\n",
              "    <tr>\n",
              "      <th>6199309</th>\n",
              "      <td>4439868</td>\n",
              "      <td>26085</td>\n",
              "      <td>2021-06-16 22:18:27.509</td>\n",
              "    </tr>\n",
              "    <tr>\n",
              "      <th>6199310</th>\n",
              "      <td>4439966</td>\n",
              "      <td>19483</td>\n",
              "      <td>2021-06-06 20:05:06.457</td>\n",
              "    </tr>\n",
              "    <tr>\n",
              "      <th>6199311</th>\n",
              "      <td>4439966</td>\n",
              "      <td>20782</td>\n",
              "      <td>2021-06-06 20:06:47.779</td>\n",
              "    </tr>\n",
              "  </tbody>\n",
              "</table>\n",
              "<p>6199312 rows × 3 columns</p>\n",
              "</div>\n",
              "      <button class=\"colab-df-convert\" onclick=\"convertToInteractive('df-a04f01d5-7239-41b7-bf98-0df1fca2fff1')\"\n",
              "              title=\"Convert this dataframe to an interactive table.\"\n",
              "              style=\"display:none;\">\n",
              "        \n",
              "  <svg xmlns=\"http://www.w3.org/2000/svg\" height=\"24px\"viewBox=\"0 0 24 24\"\n",
              "       width=\"24px\">\n",
              "    <path d=\"M0 0h24v24H0V0z\" fill=\"none\"/>\n",
              "    <path d=\"M18.56 5.44l.94 2.06.94-2.06 2.06-.94-2.06-.94-.94-2.06-.94 2.06-2.06.94zm-11 1L8.5 8.5l.94-2.06 2.06-.94-2.06-.94L8.5 2.5l-.94 2.06-2.06.94zm10 10l.94 2.06.94-2.06 2.06-.94-2.06-.94-.94-2.06-.94 2.06-2.06.94z\"/><path d=\"M17.41 7.96l-1.37-1.37c-.4-.4-.92-.59-1.43-.59-.52 0-1.04.2-1.43.59L10.3 9.45l-7.72 7.72c-.78.78-.78 2.05 0 2.83L4 21.41c.39.39.9.59 1.41.59.51 0 1.02-.2 1.41-.59l7.78-7.78 2.81-2.81c.8-.78.8-2.07 0-2.86zM5.41 20L4 18.59l7.72-7.72 1.47 1.35L5.41 20z\"/>\n",
              "  </svg>\n",
              "      </button>\n",
              "      \n",
              "  <style>\n",
              "    .colab-df-container {\n",
              "      display:flex;\n",
              "      flex-wrap:wrap;\n",
              "      gap: 12px;\n",
              "    }\n",
              "\n",
              "    .colab-df-convert {\n",
              "      background-color: #E8F0FE;\n",
              "      border: none;\n",
              "      border-radius: 50%;\n",
              "      cursor: pointer;\n",
              "      display: none;\n",
              "      fill: #1967D2;\n",
              "      height: 32px;\n",
              "      padding: 0 0 0 0;\n",
              "      width: 32px;\n",
              "    }\n",
              "\n",
              "    .colab-df-convert:hover {\n",
              "      background-color: #E2EBFA;\n",
              "      box-shadow: 0px 1px 2px rgba(60, 64, 67, 0.3), 0px 1px 3px 1px rgba(60, 64, 67, 0.15);\n",
              "      fill: #174EA6;\n",
              "    }\n",
              "\n",
              "    [theme=dark] .colab-df-convert {\n",
              "      background-color: #3B4455;\n",
              "      fill: #D2E3FC;\n",
              "    }\n",
              "\n",
              "    [theme=dark] .colab-df-convert:hover {\n",
              "      background-color: #434B5C;\n",
              "      box-shadow: 0px 1px 3px 1px rgba(0, 0, 0, 0.15);\n",
              "      filter: drop-shadow(0px 1px 2px rgba(0, 0, 0, 0.3));\n",
              "      fill: #FFFFFF;\n",
              "    }\n",
              "  </style>\n",
              "\n",
              "      <script>\n",
              "        const buttonEl =\n",
              "          document.querySelector('#df-a04f01d5-7239-41b7-bf98-0df1fca2fff1 button.colab-df-convert');\n",
              "        buttonEl.style.display =\n",
              "          google.colab.kernel.accessAllowed ? 'block' : 'none';\n",
              "\n",
              "        async function convertToInteractive(key) {\n",
              "          const element = document.querySelector('#df-a04f01d5-7239-41b7-bf98-0df1fca2fff1');\n",
              "          const dataTable =\n",
              "            await google.colab.kernel.invokeFunction('convertToInteractive',\n",
              "                                                     [key], {});\n",
              "          if (!dataTable) return;\n",
              "\n",
              "          const docLinkHtml = 'Like what you see? Visit the ' +\n",
              "            '<a target=\"_blank\" href=https://colab.research.google.com/notebooks/data_table.ipynb>data table notebook</a>'\n",
              "            + ' to learn more about interactive tables.';\n",
              "          element.innerHTML = '';\n",
              "          dataTable['output_type'] = 'display_data';\n",
              "          await google.colab.output.renderOutput(dataTable, element);\n",
              "          const docLink = document.createElement('div');\n",
              "          docLink.innerHTML = docLinkHtml;\n",
              "          element.appendChild(docLink);\n",
              "        }\n",
              "      </script>\n",
              "    </div>\n",
              "  </div>\n",
              "  "
            ]
          },
          "metadata": {},
          "execution_count": 8
        }
      ]
    },
    {
      "cell_type": "code",
      "source": [
        "#Utils functions\n",
        "def parse(x):\n",
        "    if \".\" in x:\n",
        "        date_time = datetime.strptime(x,\"%Y-%m-%d %H:%M:%S.%f\")\n",
        "    else:\n",
        "        date_time = datetime.strptime(x,\"%Y-%m-%d %H:%M:%S\")\n",
        "    return datetime.timestamp(date_time)\n",
        "\n",
        "def make_user_time_tuple(group_df, user_col='session_id', item_col='item_id', time_col='ts'):\n",
        "    user_time_tuples = list(zip(group_df[user_col], group_df[time_col]))\n",
        "    return user_time_tuples\n",
        "\n",
        "\n",
        "def make_item_time_tuple(group_df, user_col='session_id', item_col='item_id', time_col='ts'):\n",
        "    # group_df = group_df.drop_duplicates(subset=[user_col, item_col], keep='last')\n",
        "    item_time_tuples = list(zip(group_df[item_col], group_df[time_col]))\n",
        "    return item_time_tuples\n",
        "    \n",
        "def get_user_item_time_dict(df, user_col='session_id', item_col='item_id', time_col='ts'):\n",
        "    user_item_ = df.sort_values(by=[user_col, time_col])\n",
        "\n",
        "    user_item_ = user_item_.groupby(user_col).apply(lambda group: make_item_time_tuple(group, user_col, item_col, time_col)).reset_index().rename(columns={0: 'item_id_time_list'})\n",
        "    user_item_time_dict = dict(zip(user_item_[user_col], user_item_['item_id_time_list']))\n",
        "    return user_item_time_dict\n",
        "\n",
        "\n",
        "def get_item_user_time_dict(df, user_col='session_id', item_col='item_id', time_col='ts'):\n",
        "    item_user_df = df.sort_values(by=[item_col, time_col])\n",
        "    item_user_df = item_user_df.groupby(item_col).apply(lambda group: make_user_time_tuple(group, user_col, item_col, time_col)).reset_index().rename(columns={0: 'user_id_time_list'})\n",
        "    item_user_time_dict = dict(zip(item_user_df[item_col], item_user_df['user_id_time_list']))\n",
        "    return item_user_time_dict"
      ],
      "metadata": {
        "id": "TzWepV_CEj_f"
      },
      "id": "TzWepV_CEj_f",
      "execution_count": null,
      "outputs": []
    },
    {
      "cell_type": "code",
      "source": [
        "ts_list = []\n",
        "for time in tqdm(train_sessions['date']):\n",
        "    ts_list.append(parse(time))\n",
        "train_sessions['ts'] = ts_list\n",
        "train_sessions=train_sessions.sort_values(by = ['session_id','ts'],ascending = True)"
      ],
      "metadata": {
        "colab": {
          "base_uri": "https://localhost:8080/"
        },
        "id": "UgiPTgQdEl6n",
        "outputId": "6db458df-8b84-4c90-c260-80eb39958888"
      },
      "id": "UgiPTgQdEl6n",
      "execution_count": null,
      "outputs": [
        {
          "output_type": "stream",
          "name": "stderr",
          "text": [
            "100%|██████████| 6199312/6199312 [01:39<00:00, 62372.07it/s]\n"
          ]
        }
      ]
    },
    {
      "cell_type": "code",
      "source": [
        "#Recall function\n",
        "def get_sim2(df, user_col, item_col,alpha):\n",
        "  user_item_ = df.groupby(user_col)[item_col].agg(lambda x: list(x)).reset_index()\n",
        "  user_item_dict = dict(zip(user_item_[user_col], user_item_[item_col]))\n",
        "  user_time_ = df.groupby(user_col)['ts'].agg(lambda x: list(x)).reset_index()  # 引入时间因素\n",
        "  user_time_dict = dict(zip(user_time_[user_col], user_time_['ts']))\n",
        "\n",
        "  sim_item = {}\n",
        "  item_cnt = defaultdict(int)\n",
        "  for user, items in tqdm(user_item_dict.items()):\n",
        "    for loc1, item in enumerate(items):\n",
        "      item_cnt[item] += 1\n",
        "      sim_item.setdefault(item, {})\n",
        "      for loc2, relate_item in enumerate(items):\n",
        "        if item == relate_item:\n",
        "          continue\n",
        "        t1 = user_time_dict[user][loc1] #time\n",
        "        t2 = user_time_dict[user][loc2] #time\n",
        "\n",
        "        loc_alpha = 1.0 if loc2>loc1 else 0.7\n",
        "        loc_weight = loc_alpha*(0.8**(abs(loc2-loc1)-1))\n",
        "        time_weight = np.exp(-abs(t2 - t1)/259200)\n",
        "     \n",
        "\n",
        "        sim_item[item].setdefault(relate_item, 0)\n",
        "\n",
        "        sim_item[item][relate_item] += loc_weight*time_weight/math.log(1+len(items))\n",
        "  \n",
        "  \n",
        "  sim_item_corr = sim_item.copy()\n",
        "  # for i, related_items in tqdm(sim_item.items()):\n",
        "  #     for j, cij in related_items.items():\n",
        "  #         sim_item_corr[i][j] = cij / math.sqrt(item_cnt[i] * item_cnt[j] * alpha) \n",
        "\n",
        "\n",
        "  return sim_item_corr,item_cnt\n",
        "sim_item_corr,item_cnt = get_sim2(train_sessions,'session_id','item_id',1)"
      ],
      "metadata": {
        "id": "564coUGJ2ma2"
      },
      "id": "564coUGJ2ma2",
      "execution_count": null,
      "outputs": []
    },
    {
      "cell_type": "code",
      "source": [
        "user_item_time_dict = get_user_item_time_dict(train_sessions)"
      ],
      "metadata": {
        "id": "vcDGVlKC1KkF"
      },
      "id": "vcDGVlKC1KkF",
      "execution_count": null,
      "outputs": []
    },
    {
      "cell_type": "code",
      "execution_count": null,
      "id": "25cc9955",
      "metadata": {
        "id": "25cc9955"
      },
      "outputs": [],
      "source": [
        "order = train_sessions['item_id'].value_counts().reset_index()\n",
        "order = order.sort_values('item_id', ascending=False)\n",
        "popular_items = list(order['index'])"
      ]
    },
    {
      "cell_type": "code",
      "execution_count": null,
      "id": "5d6c71a5",
      "metadata": {
        "id": "5d6c71a5"
      },
      "outputs": [],
      "source": [
        "#Rank function\n",
        "def recommend(sim_item_corr, popular_items, top_k, session_item_list, item_num=300):  \n",
        "    rank = {}  \n",
        "    for i in session_item_list:  \n",
        "        if i not in sim_item_corr.keys():\n",
        "            continue\n",
        "        for j, wij in sorted(sim_item_corr[i].items(), key=lambda d: d[1], reverse=True)[0:item_num]:  \n",
        "            if j not in session_item_list:  \n",
        "                rank.setdefault(j, 0)  \n",
        "                rank[j] += wij\n",
        "    rank_list = sorted(rank.items(), key=lambda d: d[1], reverse=True)[:top_k]\n",
        "    rank_array = np.array(rank_list)\n",
        "    item_list = list(rank_array[:,0].astype('int32'))\n",
        "\n",
        "    \n",
        "    if len(item_list)<top_k:\n",
        "        index = 0\n",
        "        while(len(item_list)<top_k):\n",
        "            if popular_items[index] not in item_list:\n",
        "                item_list.append(popular_items[index])\n",
        "            else:\n",
        "                index += 1\n",
        "            \n",
        "    return item_list"
      ]
    },
    {
      "cell_type": "code",
      "source": [
        "top_k = 100\n",
        "session_id_list = []\n",
        "item_id_list = []\n",
        "rank_list = []\n",
        "test_session_dict = test_sessions.groupby('session_id')['item_id'].agg(list).to_dict()\n",
        "\n",
        "for session_id,session_item_list in tqdm(test_session_dict.items()):\n",
        "    item_list = recommend(sim_item_corr,popular_items,top_k,session_item_list)\n",
        "    session_id_list += [session_id for _ in range(len(item_list))]\n",
        "    item_id_list += list(item_list)\n",
        "\n",
        "    rank_list += [x for x in range(1,len(item_list)+1)]\n",
        "\n",
        "res_df = pd.DataFrame()\n",
        "res_df['session_id'] = session_id_list\n",
        "res_df['item_id'] = item_id_list\n",
        "res_df['rank'] = rank_list\n",
        "\n",
        "res_df.to_csv(os.path.join(data_dir, 'leaderboard_result.csv'),index=False)"
      ],
      "metadata": {
        "colab": {
          "base_uri": "https://localhost:8080/"
        },
        "id": "TApRDet13iDw",
        "outputId": "ae504574-fb58-4573-8156-58dbc887175d"
      },
      "id": "TApRDet13iDw",
      "execution_count": null,
      "outputs": [
        {
          "output_type": "stream",
          "name": "stderr",
          "text": [
            "100%|██████████| 50000/50000 [10:13<00:00, 81.51it/s]\n"
          ]
        }
      ]
    },
    {
      "cell_type": "code",
      "source": [
        "top_k = 100\n",
        "session_id_list = []\n",
        "item_id_list = []\n",
        "rank_list = []\n",
        "test_session_dict = test_leaderboard.groupby('session_id')['item_id'].agg(list).to_dict()\n",
        "\n",
        "for session_id,session_item_list in tqdm(test_session_dict.items()):\n",
        "    item_list = recommend(sim_item_corr,popular_items,top_k,session_item_list)\n",
        "    session_id_list += [session_id for _ in range(len(item_list))]\n",
        "    item_id_list += list(item_list)\n",
        "\n",
        "    rank_list += [x for x in range(1,len(item_list)+1)]\n",
        "\n",
        "res_df = pd.DataFrame()\n",
        "res_df['session_id'] = session_id_list\n",
        "res_df['item_id'] = item_id_list\n",
        "res_df['rank'] = rank_list\n",
        "\n",
        "res_df.to_csv(os.path.join(data_dir, 'final_result.csv'),index=False)"
      ],
      "metadata": {
        "id": "J3rE0I4GBtO1"
      },
      "id": "J3rE0I4GBtO1",
      "execution_count": null,
      "outputs": []
    }
  ],
  "metadata": {
    "@webio": {
      "lastCommId": null,
      "lastKernelId": null
    },
    "kernelspec": {
      "display_name": "Python 3",
      "name": "python3"
    },
    "language_info": {
      "name": "python"
    },
    "colab": {
      "name": "recall_item_cf_loc_time.ipynb",
      "provenance": [],
      "collapsed_sections": []
    }
  },
  "nbformat": 4,
  "nbformat_minor": 5
}